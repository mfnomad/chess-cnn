{
 "cells": [
  {
   "cell_type": "code",
   "execution_count": 6,
   "metadata": {
    "_cell_guid": "b1076dfc-b9ad-4769-8c92-a6c4dae69d19",
    "_uuid": "8f2839f25d086af736a60e9eeb907d3b93b6e0e5",
    "execution": {
     "iopub.execute_input": "2025-03-04T16:01:51.969483Z",
     "iopub.status.busy": "2025-03-04T16:01:51.969188Z",
     "iopub.status.idle": "2025-03-04T16:01:51.977224Z",
     "shell.execute_reply": "2025-03-04T16:01:51.976397Z",
     "shell.execute_reply.started": "2025-03-04T16:01:51.969457Z"
    },
    "trusted": true
   },
   "outputs": [
    {
     "name": "stdout",
     "output_type": "stream",
     "text": [
      "/kaggle/input/6_epochs_chess_cnn/pytorch/default/1/move_mappings.pkl\n",
      "/kaggle/input/6_epochs_chess_cnn/pytorch/default/1/9channel_CE-LOSS_model_6_epochs_lr_0-0001.pth\n",
      "/kaggle/input/chess-games/chess_games_processed_new.csv\n"
     ]
    }
   ],
   "source": [
    "# This Python 3 environment comes with many helpful analytics libraries installed\n",
    "# It is defined by the kaggle/python Docker image: https://github.com/kaggle/docker-python\n",
    "# For example, here's several helpful packages to load\n",
    "\n",
    "import numpy as np # linear algebra\n",
    "import pandas as pd # data processing, CSV file I/O (e.g. pd.read_csv)\n",
    "\n",
    "# Input data files are available in the read-only \"../input/\" directory\n",
    "# For example, running this (by clicking run or pressing Shift+Enter) will list all files under the input directory\n",
    "\n",
    "import os\n",
    "for dirname, _, filenames in os.walk('/kaggle/input'):\n",
    "    for filename in filenames:\n",
    "        print(os.path.join(dirname, filename))\n",
    "\n",
    "# You can write up to 20GB to the current directory (/kaggle/working/) that gets preserved as output when you create a version using \"Save & Run All\" \n",
    "# You can also write temporary files to /kaggle/temp/, but they won't be saved outside of the current session"
   ]
  },
  {
   "cell_type": "code",
   "execution_count": 7,
   "metadata": {
    "execution": {
     "iopub.execute_input": "2025-03-04T16:01:51.978408Z",
     "iopub.status.busy": "2025-03-04T16:01:51.978144Z",
     "iopub.status.idle": "2025-03-04T16:01:55.379345Z",
     "shell.execute_reply": "2025-03-04T16:01:55.378680Z",
     "shell.execute_reply.started": "2025-03-04T16:01:51.978378Z"
    },
    "trusted": true
   },
   "outputs": [],
   "source": [
    "import chess\n",
    "import numpy as np\n",
    "import torch\n",
    "import torch.nn as nn\n",
    "import pandas as pd\n",
    "import torch.optim as optim\n",
    "from torch.utils.data import Dataset, DataLoader"
   ]
  },
  {
   "cell_type": "code",
   "execution_count": null,
   "metadata": {
    "execution": {
     "iopub.execute_input": "2025-03-04T16:01:55.381015Z",
     "iopub.status.busy": "2025-03-04T16:01:55.380606Z",
     "iopub.status.idle": "2025-03-04T16:01:55.390514Z",
     "shell.execute_reply": "2025-03-04T16:01:55.389956Z",
     "shell.execute_reply.started": "2025-03-04T16:01:55.380993Z"
    },
    "trusted": true
   },
   "outputs": [],
   "source": [
    "class ChessCNNModule(nn.Module):\n",
    "    def __init__(self, num_classes):\n",
    "        super(ChessCNNModule, self).__init__()\n",
    "        # conv1 -> relu -> conv2 -> relu -> flatten -> fc1 -> relu -> fc2\n",
    "        self.conv1 = nn.Conv2d(9, 64, kernel_size=3, padding=1) # shape of input data is (9,8,8)\n",
    "        self.conv2 = nn.Conv2d(64, 128, kernel_size=3, padding=1)\n",
    "        self.flatten = nn.Flatten()\n",
    "        self.fc1 = nn.Linear(8 * 8 * 128, 256)\n",
    "        self.fc2 = nn.Linear(256, num_classes)\n",
    "        self.relu = nn.ReLU()\n",
    "\n",
    "        nn.init.kaiming_uniform_(self.conv1.weight, nonlinearity='relu')\n",
    "        nn.init.kaiming_uniform_(self.conv2.weight, nonlinearity='relu')\n",
    "        nn.init.xavier_uniform_(self.fc1.weight)\n",
    "        nn.init.xavier_uniform_(self.fc2.weight)\n",
    "\n",
    "    def forward(self, x):\n",
    "        x = self.relu(self.conv1(x))\n",
    "        x = self.relu(self.conv2(x))\n",
    "        x = self.flatten(x)\n",
    "        x = self.relu(self.fc1(x))\n",
    "        x = self.fc2(x)  # Outputs raw logits\n",
    "        return x\n",
    "\n",
    "    def createBoardRep(self, board):\n",
    "        '''\n",
    "    Takes as an argument a pychess board object representing the current position of all current pieces.\n",
    "    White pieces are represented by '1', black pieces by '-1'\n",
    "\n",
    "    Returns: Stacked Layers (np.array) of each chess piece represented on a 8x8 np array\n",
    "\n",
    "    Example:\n",
    "    reps = createBoardRep(board)\n",
    "    print(reps[0])\n",
    "    -->\n",
    "    [[ 0  0  0  0  0  0  0  0]\n",
    "    [-1 -1 -1 -1 -1 -1 -1 -1]\n",
    "    [ 0  0  0  0  0  0  0  0]\n",
    "    [ 0  0  0  0  0  0  0  0]\n",
    "    [ 0  0  0  0  0  0  0  0]\n",
    "    [ 0  0  0  0  0  0  0  0]\n",
    "    [ 1  1  1  1  1  1  1  1]\n",
    "    [ 0  0  0  0  0  0  0  0]]\n",
    "\n",
    "    '''\n",
    "        pieces = ['p', 'r', 'n', 'b', 'q', 'k']\n",
    "        layers = []\n",
    "\n",
    "        for piece in pieces:\n",
    "            layer = [[0 for _ in range(8)] for _ in range(8)]\n",
    "            for square, piece_obj in board.piece_map().items():\n",
    "                piece_type = piece_obj.symbol().lower()\n",
    "                if piece_type == piece:\n",
    "                    row = 7 - (square // 8)\n",
    "                    col = square % 8\n",
    "                    layer[row][col] = -1 if piece_obj.color == chess.BLACK else 1\n",
    "\n",
    "            layers.append(layer)\n",
    "\n",
    "        from_layer = np.zeros((8, 8), dtype=int)\n",
    "        for move in board.legal_moves:\n",
    "          from_square = move.from_square\n",
    "          row = 7 - (from_square // 8)\n",
    "          col = from_square % 8\n",
    "          from_layer[row][col] = 1\n",
    "        layers.append(from_layer)\n",
    "\n",
    "        # \"To\" squares layer\n",
    "        to_layer = np.zeros((8, 8), dtype=int)\n",
    "        for move in board.legal_moves:\n",
    "          to_square = move.to_square\n",
    "          row = 7 - (to_square // 8)\n",
    "          col = to_square % 8\n",
    "          to_layer[row][col] = 1\n",
    "        layers.append(to_layer)\n",
    "\n",
    "        # Turn indicator layer\n",
    "        turn_layer = np.full((8, 8), 1 if board.turn == chess.WHITE else -1, dtype=int)\n",
    "        layers.append(turn_layer)\n",
    "\n",
    "        return np.stack(layers)  # Shape: (9, 8, 8)"
   ]
  },
  {
   "cell_type": "code",
   "execution_count": null,
   "metadata": {
    "execution": {
     "iopub.execute_input": "2025-03-04T16:01:55.391996Z",
     "iopub.status.busy": "2025-03-04T16:01:55.391701Z",
     "iopub.status.idle": "2025-03-04T16:01:55.408312Z",
     "shell.execute_reply": "2025-03-04T16:01:55.407629Z",
     "shell.execute_reply.started": "2025-03-04T16:01:55.391964Z"
    },
    "trusted": true
   },
   "outputs": [],
   "source": [
    "class ChessBoardEncoder:\n",
    "    def createBoardRep(self, board):\n",
    "        '''\n",
    "    Takes as an argument a pychess board object representing the current position of all current pieces.\n",
    "    White pieces are represented by '1', black pieces by '-1'\n",
    "\n",
    "    Returns: Stacked Layers (np.array) of each chess piece represented on a 8x8 np array\n",
    "\n",
    "    Example:\n",
    "    reps = createBoardRep(board)\n",
    "    print(reps[0])\n",
    "    -->\n",
    "    [[ 0  0  0  0  0  0  0  0]\n",
    "    [-1 -1 -1 -1 -1 -1 -1 -1]\n",
    "    [ 0  0  0  0  0  0  0  0]\n",
    "    [ 0  0  0  0  0  0  0  0]\n",
    "    [ 0  0  0  0  0  0  0  0]\n",
    "    [ 0  0  0  0  0  0  0  0]\n",
    "    [ 1  1  1  1  1  1  1  1]\n",
    "    [ 0  0  0  0  0  0  0  0]]\n",
    "\n",
    "    '''\n",
    "        pieces = ['p', 'r', 'n', 'b', 'q', 'k']\n",
    "        layers = []\n",
    "\n",
    "        for piece in pieces:\n",
    "            layer = [[0 for _ in range(8)] for _ in range(8)]\n",
    "            for square, piece_obj in board.piece_map().items():\n",
    "                piece_type = piece_obj.symbol().lower()\n",
    "                if piece_type == piece:\n",
    "                    row = 7 - (square // 8)\n",
    "                    col = square % 8\n",
    "                    layer[row][col] = -1 if piece_obj.color == chess.BLACK else 1\n",
    "\n",
    "            layers.append(layer)\n",
    "\n",
    "        from_layer = np.zeros((8, 8), dtype=int)\n",
    "        for move in board.legal_moves:\n",
    "          from_square = move.from_square\n",
    "          row = 7 - (from_square // 8)\n",
    "          col = from_square % 8\n",
    "          from_layer[row][col] = 1\n",
    "        layers.append(from_layer)\n",
    "\n",
    "        # \"To\" squares layer\n",
    "        to_layer = np.zeros((8, 8), dtype=int)\n",
    "        for move in board.legal_moves:\n",
    "          to_square = move.to_square\n",
    "          row = 7 - (to_square // 8)\n",
    "          col = to_square % 8\n",
    "          to_layer[row][col] = 1\n",
    "        layers.append(to_layer)\n",
    "\n",
    "        # Turn indicator layer\n",
    "        turn_layer = np.full((8, 8), 1 if board.turn == chess.WHITE else -1, dtype=int)\n",
    "        layers.append(turn_layer)\n",
    "\n",
    "        return np.stack(layers)  # Shape: (9, 8, 8)\n",
    "\n",
    "\n",
    "\n",
    "\n",
    "\n",
    "\n",
    "    def create_move_mapping(games):\n",
    "      all_moves = set()\n",
    "      white_moves = 0\n",
    "      black_moves = 0\n",
    "\n",
    "      for game_idx, game in enumerate(games):\n",
    "          board = chess.Board()\n",
    "          moves = game.split()\n",
    "\n",
    "          for move in moves:\n",
    "              try:\n",
    "                  uci_move = board.push_san(move).uci()  # Convert to UCI\n",
    "\n",
    "                  if board.turn == chess.WHITE:\n",
    "                      black_moves += 1  \n",
    "                  else:\n",
    "                      white_moves += 1  \n",
    "\n",
    "                  if uci_move not in all_moves:\n",
    "                      all_moves.add(uci_move)\n",
    "\n",
    "                    \n",
    "                      print(f\"Game {game_idx + 1}: Added move {uci_move} | Total moves: {len(all_moves)}\")\n",
    "                      print(f\"White moves count: {white_moves}, Black moves count: {black_moves}\")\n",
    "\n",
    "              except ValueError:\n",
    "                  print(f\"Skipping invalid move: {move}\")\n",
    "                  continue  \n",
    "\n",
    "      move_to_int = {move: idx for idx, move in enumerate(sorted(all_moves))}\n",
    "      int_to_move = {idx: move for move, idx in move_to_int.items()}\n",
    "\n",
    "      print(\"\\nFinal Move Mapping Summary:\")\n",
    "      print(f\"Total unique moves stored: {len(all_moves)}\")\n",
    "      print(f\"White moves count: {white_moves}, Black moves count: {black_moves}\")\n",
    "      print(f\"Ratio (White/Black): {white_moves / max(black_moves, 1):.2f}\")  # Avoid division by zero\n",
    "\n",
    "      print(\"\\nLast 10 Move Mappings:\")\n",
    "      for move, idx in list(move_to_int.items())[-10:]:\n",
    "          print(f\"{move} -> {idx}\")\n",
    "\n",
    "      return move_to_int, int_to_move\n",
    "\n",
    "\n",
    "\n",
    "    def getMoveMateIn1(self, board):\n",
    "        board = board.copy()\n",
    "        for move in board.legal_moves:\n",
    "            board.push_uci(str(move))\n",
    "            if board.is_checkmate():\n",
    "                return move\n",
    "            board.pop()\n",
    "\n",
    "        return None\n",
    "\n",
    "    def getMoveMateIn2(self, board):\n",
    "        board = board.copy()\n",
    "\n",
    "        current_player = board.turn  \n",
    "\n",
    "        for move in board.legal_moves:\n",
    "            \n",
    "\n",
    "            board.push_uci(str(move))  \n",
    "\n",
    "            \n",
    "            for opponent_move in board.legal_moves:\n",
    "                board.push_uci(str(opponent_move))  # The opponent responds\n",
    "                \n",
    "                # Now check if the current player can deliver checkmate in 1 after the opponent's move\n",
    "                mate_in_1_move = self.getMoveMateIn1(board)\n",
    "                #print(f\"Mate in 1 for this sequence: {mate_in_1_move}\")\n",
    "\n",
    "                if mate_in_1_move:\n",
    "                    board.pop()  # Undo the opponent's move\n",
    "                    board.pop()  # Undo the current player's move\n",
    "                    #if current_player:\n",
    "                    #    print(f\"Found Mate in 2 for White: {move} followed by {mate_in_1_move}\")\n",
    "                    #else:\n",
    "                    #    print(f\"Found Mate in 2 for Black: {move} followed by {mate_in_1_move}\")\n",
    "                    #return move, mate_in_1_move  # Return the CONSECUTIVE moves of the same player color leading to Mate in 2\n",
    "\n",
    "                board.pop()\n",
    "\n",
    "            board.pop()\n",
    "\n",
    "        print(\"No mate in 2 found\")\n",
    "        return None"
   ]
  },
  {
   "cell_type": "code",
   "execution_count": null,
   "metadata": {
    "execution": {
     "iopub.execute_input": "2025-03-04T16:01:55.409329Z",
     "iopub.status.busy": "2025-03-04T16:01:55.409085Z",
     "iopub.status.idle": "2025-03-04T16:01:55.498618Z",
     "shell.execute_reply": "2025-03-04T16:01:55.498019Z",
     "shell.execute_reply.started": "2025-03-04T16:01:55.409297Z"
    },
    "trusted": true
   },
   "outputs": [],
   "source": [
    "torch.manual_seed(55)\n",
    "np.random.seed(55) #delete or change later for more randomness\n",
    "device = torch.device(\"cuda\" if torch.cuda.is_available() else \"cpu\")\n",
    "\n",
    "class ChessDataset(Dataset):\n",
    "    def __init__(self, games, model, move_to_int):\n",
    "        super(ChessDataset, self).__init__()\n",
    "        self.games = games\n",
    "        self.model = model\n",
    "        self.move_to_int = move_to_int\n",
    "        self.num_classes = len(move_to_int)\n",
    "\n",
    "\n",
    "\n",
    "    def __len__(self):\n",
    "        #return 50_000\n",
    "        return len(self.games)\n",
    "\n",
    "    def __getitem__(self, idx):\n",
    "        row = self.games[idx]\n",
    "        moves = row.split()\n",
    "        num_moves = len(moves)\n",
    "\n",
    "        # Generate a random number between 1 and the number of chess moves\n",
    "        random_move_index = np.random.randint(1, num_moves)\n",
    "        #print(\"random num is :\", random_move_index)\n",
    "\n",
    "        features = moves[0:random_move_index]\n",
    "        label_move = moves[random_move_index]\n",
    "        #print(\"features are: \", features)\n",
    "        #print(\"label move is:\", label_move)\n",
    "\n",
    "        board = chess.Board()\n",
    "\n",
    "        for move in features:\n",
    "            try:\n",
    "                board.push_san(move)\n",
    "            except ValueError:\n",
    "                print(f\"Invalid move in dataset: {move}\")\n",
    "                raise ValueError(f\"Invalid move in dataset: {move}\")\n",
    "\n",
    "        # Convert SAN move to UCI\n",
    "        try:\n",
    "            board.push_san(label_move)  # Apply the move\n",
    "            label_move_uci = board.peek().uci()  # Get last move in UCI format\n",
    "            board.pop()  # Undo the move to keep board unchanged\n",
    "        except ValueError:\n",
    "            print(f\"Invalid label move in dataset or unable to convert to UCI: {label_move}\")\n",
    "            raise ValueError(f\"Invalid label move move: {label_move}\")\n",
    "\n",
    "        x = torch.tensor(self.model.createBoardRep(board), dtype=torch.float32).to(device)\n",
    "\n",
    "        if label_move_uci in self.move_to_int:\n",
    "            y = torch.tensor(self.move_to_int[label_move_uci], dtype=torch.long).to(device)  # Categorical label y can be between (1, len(move_to_int)]\n",
    "        else:\n",
    "            print(f\"[WARNING] Move {label_move_uci} not in move_to_int. Assigning random index.\")\n",
    "            y = torch.tensor(np.random.randint(0, self.num_classes), dtype=torch.long).to(device)\n",
    "\n",
    "\n",
    "        return x,y"
   ]
  },
  {
   "cell_type": "code",
   "execution_count": 11,
   "metadata": {
    "execution": {
     "iopub.execute_input": "2025-03-04T16:01:55.499540Z",
     "iopub.status.busy": "2025-03-04T16:01:55.499298Z",
     "iopub.status.idle": "2025-03-04T16:01:55.507570Z",
     "shell.execute_reply": "2025-03-04T16:01:55.506714Z",
     "shell.execute_reply.started": "2025-03-04T16:01:55.499512Z"
    },
    "trusted": true
   },
   "outputs": [
    {
     "name": "stdout",
     "output_type": "stream",
     "text": [
      "Move mappings loaded from /kaggle/input/6_epochs_chess_cnn/pytorch/default/1/move_mappings.pkl\n"
     ]
    }
   ],
   "source": [
    "import pickle\n",
    "def load_move_mappings(filename=\"/kaggle/input/6_epochs_chess_cnn/pytorch/default/1/move_mappings.pkl\"):\n",
    "    with open(filename, \"rb\") as f:\n",
    "        data = pickle.load(f)\n",
    "    print(f\"Move mappings loaded from {filename}\")\n",
    "    return data[\"move_to_int\"], data[\"int_to_move\"]\n",
    "\n",
    "move_to_int, int_to_move = load_move_mappings()"
   ]
  },
  {
   "cell_type": "code",
   "execution_count": null,
   "metadata": {
    "execution": {
     "iopub.execute_input": "2025-03-04T16:01:55.508715Z",
     "iopub.status.busy": "2025-03-04T16:01:55.508430Z",
     "iopub.status.idle": "2025-03-04T19:52:43.628238Z",
     "shell.execute_reply": "2025-03-04T19:52:43.627263Z",
     "shell.execute_reply.started": "2025-03-04T16:01:55.508687Z"
    },
    "trusted": true
   },
   "outputs": [
    {
     "name": "stdout",
     "output_type": "stream",
     "text": [
      "using cuda: True\n"
     ]
    },
    {
     "name": "stderr",
     "output_type": "stream",
     "text": [
      "100%|██████████| 13803/13803 [23:04<00:00,  9.97it/s]\n"
     ]
    },
    {
     "name": "stdout",
     "output_type": "stream",
     "text": [
      "Epoch 1/10, Loss: 4.0327, Time: 23m4s\n"
     ]
    },
    {
     "name": "stderr",
     "output_type": "stream",
     "text": [
      "100%|██████████| 13803/13803 [22:59<00:00, 10.00it/s]\n"
     ]
    },
    {
     "name": "stdout",
     "output_type": "stream",
     "text": [
      "Epoch 2/10, Loss: 3.0219, Time: 22m59s\n"
     ]
    },
    {
     "name": "stderr",
     "output_type": "stream",
     "text": [
      "100%|██████████| 13803/13803 [22:59<00:00, 10.00it/s]\n"
     ]
    },
    {
     "name": "stdout",
     "output_type": "stream",
     "text": [
      "Epoch 3/10, Loss: 2.7384, Time: 22m59s\n"
     ]
    },
    {
     "name": "stderr",
     "output_type": "stream",
     "text": [
      "100%|██████████| 13803/13803 [23:07<00:00,  9.95it/s]\n"
     ]
    },
    {
     "name": "stdout",
     "output_type": "stream",
     "text": [
      "Epoch 4/10, Loss: 2.5963, Time: 23m7s\n"
     ]
    },
    {
     "name": "stderr",
     "output_type": "stream",
     "text": [
      "100%|██████████| 13803/13803 [23:01<00:00,  9.99it/s]\n"
     ]
    },
    {
     "name": "stdout",
     "output_type": "stream",
     "text": [
      "Epoch 5/10, Loss: 2.5110, Time: 23m1s\n"
     ]
    },
    {
     "name": "stderr",
     "output_type": "stream",
     "text": [
      "100%|██████████| 13803/13803 [22:59<00:00, 10.00it/s]\n"
     ]
    },
    {
     "name": "stdout",
     "output_type": "stream",
     "text": [
      "Epoch 6/10, Loss: 2.4557, Time: 22m59s\n"
     ]
    },
    {
     "name": "stderr",
     "output_type": "stream",
     "text": [
      "100%|██████████| 13803/13803 [23:13<00:00,  9.91it/s]\n"
     ]
    },
    {
     "name": "stdout",
     "output_type": "stream",
     "text": [
      "Epoch 7/10, Loss: 2.4143, Time: 23m13s\n"
     ]
    },
    {
     "name": "stderr",
     "output_type": "stream",
     "text": [
      "100%|██████████| 13803/13803 [23:07<00:00,  9.95it/s]\n"
     ]
    },
    {
     "name": "stdout",
     "output_type": "stream",
     "text": [
      "Epoch 8/10, Loss: 2.3853, Time: 23m7s\n"
     ]
    },
    {
     "name": "stderr",
     "output_type": "stream",
     "text": [
      "100%|██████████| 13803/13803 [23:02<00:00,  9.98it/s]\n"
     ]
    },
    {
     "name": "stdout",
     "output_type": "stream",
     "text": [
      "Epoch 9/10, Loss: 2.3537, Time: 23m2s\n"
     ]
    },
    {
     "name": "stderr",
     "output_type": "stream",
     "text": [
      "100%|██████████| 13803/13803 [23:02<00:00,  9.99it/s]"
     ]
    },
    {
     "name": "stdout",
     "output_type": "stream",
     "text": [
      "Epoch 10/10, Loss: 2.3328, Time: 23m2s\n"
     ]
    },
    {
     "name": "stderr",
     "output_type": "stream",
     "text": [
      "\n"
     ]
    }
   ],
   "source": [
    "import time\n",
    "from tqdm import tqdm\n",
    "\n",
    "csv_path = \"/kaggle/input/chess-games/chess_games_processed_new.csv\"\n",
    "df = pd.read_csv(csv_path)\n",
    "# Extract all moves from the dataset\n",
    "games = df[\"AN\"].tolist()\n",
    "\n",
    "print(\"using cuda:\", torch.cuda.is_available())\n",
    "device = torch.device(\"cuda\" if torch.cuda.is_available() else \"cpu\")\n",
    "num_classes = len(move_to_int)\n",
    "model = ChessCNNModule(num_classes).to(device)\n",
    "dataset = ChessDataset(games, model, move_to_int)\n",
    "dataloader = DataLoader(dataset, batch_size=64, shuffle=True)\n",
    "\n",
    "\n",
    "num_epochs = 10\n",
    "criterion = nn.CrossEntropyLoss()\n",
    "optimizer = optim.Adam(model.parameters(), lr=0.0001)\n",
    "\n",
    "# Training loop\n",
    "for epoch in range(num_epochs):\n",
    "    start_time = time.time()\n",
    "    model.train()\n",
    "    running_loss = 0.0\n",
    "\n",
    "    for inputs, labels in tqdm(dataloader):\n",
    "        inputs, labels = inputs.to(device), labels.to(device).long()\n",
    "\n",
    "        optimizer.zero_grad()\n",
    "        outputs = model(inputs)  # Raw logits\n",
    "\n",
    "        loss = criterion(outputs, labels)\n",
    "        loss.backward()\n",
    "        torch.nn.utils.clip_grad_norm_(model.parameters(), max_norm=1.0)  \n",
    "\n",
    "        optimizer.step()\n",
    "        running_loss += loss.item()\n",
    "\n",
    "    end_time = time.time()\n",
    "    minutes = int((end_time - start_time) // 60)\n",
    "    seconds = int((end_time - start_time) % 60)\n",
    "\n",
    "    print(f\"Epoch {epoch+1}/{num_epochs}, Loss: {running_loss / len(dataloader):.4f}, Time: {minutes}m{seconds}s\")\n",
    "\n",
    "\n",
    "torch.save(model, \"9channel_CE-LOSS_model_26_epochs_lr_0-0001.pth\")"
   ]
  }
 ],
 "metadata": {
  "kaggle": {
   "accelerator": "nvidiaTeslaT4",
   "dataSources": [
    {
     "datasetId": 6782257,
     "sourceId": 10910580,
     "sourceType": "datasetVersion"
    },
    {
     "isSourceIdPinned": true,
     "modelId": 256368,
     "modelInstanceId": 234666,
     "sourceId": 274057,
     "sourceType": "modelInstanceVersion"
    }
   ],
   "isGpuEnabled": true,
   "isInternetEnabled": true,
   "language": "python",
   "sourceType": "notebook"
  },
  "kernelspec": {
   "display_name": "Python 3",
   "language": "python",
   "name": "python3"
  },
  "language_info": {
   "codemirror_mode": {
    "name": "ipython",
    "version": 3
   },
   "file_extension": ".py",
   "mimetype": "text/x-python",
   "name": "python",
   "nbconvert_exporter": "python",
   "pygments_lexer": "ipython3",
   "version": "3.10.12"
  }
 },
 "nbformat": 4,
 "nbformat_minor": 4
}
